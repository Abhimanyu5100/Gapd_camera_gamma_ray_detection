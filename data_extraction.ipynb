{
 "cells": [
  {
   "cell_type": "code",
   "execution_count": 4,
   "id": "0e4f0a5d",
   "metadata": {},
   "outputs": [],
   "source": [
    "import csv\n",
    "input_path = \"data/b0534_094_118_121_134_144_148_151_166.out\"\n",
    "def txt_to_csv(input_txt_path=input_path, output_csv_path=\"pure_proton.csv\"):\n",
    "    with open(input_txt_path, 'r') as infile, open(output_csv_path, 'w', newline='') as outfile:\n",
    "        writer = csv.writer(outfile)\n",
    "\n",
    "        # Define headers for CSV\n",
    "        header = [\n",
    "            \"centroid_x\", \"centroid_y\", \"2a\", \"2b\", \"eccentricity\",\n",
    "            \"radial_distance\", \"radial_angle\", \"orientation_angle\", \"alpha\",\n",
    "            \"orientation_slope\", \"radial_slope\", \"total_active_pixels\", \"total_PE_count\",\n",
    "            \"azimuthal_spread\", \"miss_distance\", \"edge_leakage_ratio\", \"brightest_pixel_distance\",\n",
    "            \"brightest_pixel_value\", \"flag\", \"distribution_asymmetry\",\n",
    "            \"frac2\", \"bt\", \"pt\"\n",
    "        ]\n",
    "        writer.writerow(header)\n",
    "\n",
    "        lines = infile.readlines()\n",
    "        i = 0\n",
    "        while i < len(lines) - 2:\n",
    "            # Skip metadata line\n",
    "            energy1 = lines[i + 1].strip().split()\n",
    "            energy2 = lines[i + 2].strip().split()\n",
    "\n",
    "            if len(energy1) == 23:\n",
    "                writer.writerow(energy1)\n",
    "\n",
    "            if len(energy2) == 23:\n",
    "                writer.writerow(energy2)\n",
    "\n",
    "            i += 3  # Move to next event (3 lines per event)\n",
    "\n",
    "    print(f\"✅ Conversion completed. CSV saved to: {output_csv_path}\")\n",
    "#txt_to_csv()  # Call the function to convert the file"
   ]
  },
  {
   "cell_type": "code",
   "execution_count": 15,
   "id": "675a3e25",
   "metadata": {},
   "outputs": [
    {
     "name": "stderr",
     "output_type": "stream",
     "text": [
      "Processing events: 100%|██████████| 551028/551028 [00:58<00:00, 9429.15it/s] \n"
     ]
    },
    {
     "name": "stdout",
     "output_type": "stream",
     "text": [
      "\n",
      "✅ Extracted 179795 valid events to 'filtered_proton.csv'\n"
     ]
    }
   ],
   "source": [
    "import pandas as pd\n",
    "from tqdm import tqdm\n",
    "\n",
    "def extract_valid_events(csv_path=\"pure_proton.csv\", output_csv=\"filtered_proton.csv\"):\n",
    "    # Load the CSV\n",
    "    df = pd.read_csv(csv_path)\n",
    "\n",
    "    # Initialize list to store valid events\n",
    "    extracted_rows = []\n",
    "\n",
    "    # Iterate through events (2 rows per event) with tqdm progress bar\n",
    "    for i in tqdm(range(0, len(df), 2), desc=\"Processing events\"):\n",
    "        event_rows = df.iloc[i:i+2]\n",
    "\n",
    "        # Skip if both rows have total_active_pixels == 0\n",
    "        if (event_rows[\"total_active_pixels\"] <= 6).all():\n",
    "            continue\n",
    "\n",
    "        # Select the row with flag == 1\n",
    "        valid_row = event_rows[(event_rows[\"flag\"] == 1) & (event_rows[\"total_active_pixels\"] > 6)]\n",
    "\n",
    "        if not valid_row.empty:\n",
    "            row = valid_row.iloc[0]\n",
    "            extracted_rows.append({\n",
    "                \"miss_distance\": row[\"miss_distance\"],\n",
    "                \"alpha\": row[\"alpha\"],\n",
    "                \"radial_distance\": row[\"radial_distance\"],\n",
    "                \"azimuthal_spread\": row[\"azimuthal_spread\"],\n",
    "                \"particle_type\": 1\n",
    "            })\n",
    "\n",
    "    # Convert to final DataFrame\n",
    "    final_df = pd.DataFrame(extracted_rows)\n",
    "\n",
    "    # Save to CSV\n",
    "    final_df.to_csv(output_csv, index=False)\n",
    "    print(f\"\\n✅ Extracted {len(final_df)} valid events to '{output_csv}'\")\n",
    "\n",
    "# Call the function\n",
    "extract_valid_events()\n"
   ]
  },
  {
   "cell_type": "code",
   "execution_count": 9,
   "id": "a94099ef",
   "metadata": {},
   "outputs": [
    {
     "name": "stdout",
     "output_type": "stream",
     "text": [
      "✅ Conversion completed. CSV saved to: source_1.csv\n"
     ]
    },
    {
     "name": "stderr",
     "output_type": "stream",
     "text": [
      "Processing events: 100%|██████████| 35000/35000 [00:03<00:00, 10191.30it/s]\n"
     ]
    },
    {
     "name": "stdout",
     "output_type": "stream",
     "text": [
      "\n",
      "✅ Extracted 10457 valid events to 'filtered_source_1.csv'\n"
     ]
    }
   ],
   "source": [
    "txt_to_csv(input_txt_path=\"data/s0534+2201_060_NOR_08112024_1_EVBdata_hillas_par.out\", output_csv_path=\"source_1.csv\")\n",
    "extract_valid_events(csv_path=\"source_1.csv\", output_csv=\"filtered_source_1.csv\")"
   ]
  },
  {
   "cell_type": "code",
   "execution_count": null,
   "id": "fbc0ad7c",
   "metadata": {},
   "outputs": [
    {
     "name": "stdout",
     "output_type": "stream",
     "text": [
      "🔍 Showing 10 valid events with total_active_pixels > 6:\n",
      "\n"
     ]
    },
    {
     "name": "stderr",
     "output_type": "stream",
     "text": [
      "Processing events:   0%|          | 2056/551028 [00:00<00:52, 10444.03it/s]"
     ]
    },
    {
     "name": "stdout",
     "output_type": "stream",
     "text": [
      " miss_distance  alpha  radial_distance  azimuthal_spread  total_active_pixels\n",
      "          6.05  82.53             6.11              1.64                   12\n",
      "------------------------------------------------------------\n",
      " miss_distance  alpha  radial_distance  azimuthal_spread  total_active_pixels\n",
      "          7.17  85.49             7.19              1.23                    9\n",
      "------------------------------------------------------------\n",
      " miss_distance  alpha  radial_distance  azimuthal_spread  total_active_pixels\n",
      "          6.34  55.53             7.69              0.73                    8\n",
      "------------------------------------------------------------\n",
      " miss_distance  alpha  radial_distance  azimuthal_spread  total_active_pixels\n",
      "          0.23   1.73             7.55              0.42                    8\n",
      "------------------------------------------------------------\n",
      " miss_distance  alpha  radial_distance  azimuthal_spread  total_active_pixels\n",
      "          2.58  34.79             4.53              1.04                   30\n",
      "------------------------------------------------------------\n",
      " miss_distance  alpha  radial_distance  azimuthal_spread  total_active_pixels\n",
      "           8.4  74.35             8.72               1.4                   13\n",
      "------------------------------------------------------------\n",
      " miss_distance  alpha  radial_distance  azimuthal_spread  total_active_pixels\n",
      "          4.35  89.79             4.35              1.04                    9\n",
      "------------------------------------------------------------\n",
      " miss_distance  alpha  radial_distance  azimuthal_spread  total_active_pixels\n",
      "          1.72   73.7              1.8              1.01                   13\n",
      "------------------------------------------------------------\n",
      " miss_distance  alpha  radial_distance  azimuthal_spread  total_active_pixels\n",
      "          1.12   8.84             7.27              0.46                    7\n",
      "------------------------------------------------------------\n",
      " miss_distance  alpha  radial_distance  azimuthal_spread  total_active_pixels\n",
      "          2.28  34.49             4.02              0.75                    9\n",
      "------------------------------------------------------------\n"
     ]
    },
    {
     "name": "stderr",
     "output_type": "stream",
     "text": [
      "Processing events: 100%|██████████| 551028/551028 [00:57<00:00, 9503.71it/s] \n"
     ]
    },
    {
     "name": "stdout",
     "output_type": "stream",
     "text": [
      "\n",
      "✅ Extracted 179795 valid events to 'filtered_proton.csv'\n"
     ]
    }
   ],
   "source": []
  },
  {
   "cell_type": "code",
   "execution_count": null,
   "id": "976a7ccd",
   "metadata": {},
   "outputs": [],
   "source": []
  }
 ],
 "metadata": {
  "kernelspec": {
   "display_name": "working.venv",
   "language": "python",
   "name": "python3"
  },
  "language_info": {
   "codemirror_mode": {
    "name": "ipython",
    "version": 3
   },
   "file_extension": ".py",
   "mimetype": "text/x-python",
   "name": "python",
   "nbconvert_exporter": "python",
   "pygments_lexer": "ipython3",
   "version": "3.13.3"
  }
 },
 "nbformat": 4,
 "nbformat_minor": 5
}
